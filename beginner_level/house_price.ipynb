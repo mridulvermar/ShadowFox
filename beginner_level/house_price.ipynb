import pandas as pd
import numpy as np
import matplotlib.pyplot as plt
import seaborn as sns
from sklearn.model_selection import train_test_split
from sklearn.preprocessing import StandardScaler
from sklearn.linear_model import LinearRegression
from sklearn.tree import DecisionTreeRegressor
from sklearn.metrics import mean_absolute_error, mean_squared_error, r2_score
from sklearn.impute import SimpleImputer
import warnings
warnings.filterwarnings('ignore')

df = pd.read_csv("/content/HousingData.csv")

print("✅ Dataset loaded successfully!")
print("Shape:", df.shape)
print("Columns:", df.columns.tolist())
print("\nMissing values before cleaning:\n", df.isnull().sum())

df = df.select_dtypes(include=[np.number])

df = df.dropna(axis=1, how='all')

imputer = SimpleImputer(strategy='mean')
df = pd.DataFrame(imputer.fit_transform(df), columns=df.columns)

print("\nMissing values after cleaning:\n", df.isnull().sum())

target_column = 'MEDV' 
if target_column not in df.columns:
    raise ValueError(f"❌ Target column '{target_column}' not found! Available columns: {df.columns.tolist()}")

X = df.drop(target_column, axis=1)
y = df[target_column]

X_train, X_test, y_train, y_test = train_test_split(X, y, test_size=0.2, random_state=42)

scaler = StandardScaler()
X_train_scaled = scaler.fit_transform(X_train)
X_test_scaled = scaler.transform(X_test)

lr = LinearRegression()
lr.fit(X_train_scaled, y_train)
y_pred_lr = lr.predict(X_test_scaled)

print("\n📈 Linear Regression Results:")
print("MAE:", mean_absolute_error(y_test, y_pred_lr))
print("MSE:", mean_squared_error(y_test, y_pred_lr))
print("R2 Score:", r2_score(y_test, y_pred_lr))

dt = DecisionTreeRegressor(random_state=42)
dt.fit(X_train, y_train)
y_pred_dt = dt.predict(X_test)

print("\n🌳 Decision Tree Results:")
print("MAE:", mean_absolute_error(y_test, y_pred_dt))
print("MSE:", mean_squared_error(y_test, y_pred_dt))
print("R2 Score:", r2_score(y_test, y_pred_dt))

models = ['Linear Regression', 'Decision Tree']
r2_scores = [r2_score(y_test, y_pred_lr), r2_score(y_test, y_pred_dt)]

plt.bar(models, r2_scores, color=['skyblue', 'lightgreen'])
plt.ylabel('R² Score')
plt.title('Model Comparison')
plt.show()

#prediction code 

# 🔍 Show first 10 predictions vs actual values
pred_df = pd.DataFrame({
    'Actual Price': y_test.values[:10],
    'Predicted Price (Linear)': y_pred_lr[:10],
    'Predicted Price (Decision Tree)': y_pred_dt[:10]
})

print("\n🎯 Sample Predictions:\n")
print(pred_df)
new_data = pd.DataFrame([{
    'CRIM': 0.1,
    'ZN': 18.0,
    'INDUS': 2.31,
    'CHAS': 0,
    'NOX': 0.538,
    'RM': 6.575,
    'AGE': 65.2,
    'DIS': 4.09,
    'RAD': 1,
    'TAX': 296,
    'PTRATIO': 15.3,
    'B': 396.9,
    'LSTAT': 4.98
}])
new_data_scaled = scaler.transform(new_data)
lr_pred = lr.predict(new_data_scaled)
dt_pred = dt.predict(new_data)

print("\n🏠 Predicted Price (Linear Regression):", lr_pred[0])
print("🌳 Predicted Price (Decision Tree):", dt_pred[0])
